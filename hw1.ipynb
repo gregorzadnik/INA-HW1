{
 "cells": [
  {
   "cell_type": "code",
   "execution_count": null,
   "metadata": {},
   "outputs": [],
   "source": [
    "import networkx as nx\n",
    "import matplotlib.pyplot as plt\n",
    "\n",
    "def draw(G, **args):\n",
    "    nx.draw(G, with_labels=True, font_size=8, **args)\n",
    "    plt.show()\n",
    "\n",
    "def component(G, N, i):\n",
    "    C = []\n",
    "    S = []\n",
    "    S.append(i)\n",
    "    N.remove(i)\n",
    "    while S:\n",
    "        node = S.pop()\n",
    "        C.append(node)\n",
    "        for j in G[node]:\n",
    "            if j in N:\n",
    "                N.remove(j)\n",
    "                S.append(j)\n",
    "    return C\n",
    "\n",
    "def components(G):\n",
    "    C = []\n",
    "    N = set(G)\n",
    "    while N:\n",
    "        C.append(component(G, N, next(iter(N))))\n",
    "    return C"
   ]
  },
  {
   "cell_type": "code",
   "execution_count": 65,
   "metadata": {},
   "outputs": [
    {
     "name": "stdout",
     "output_type": "stream",
     "text": [
      "Finished building\n"
     ]
    },
    {
     "data": {
      "image/png": "[encoded data removed]",
      "text/plain": [
       "<Figure size 640x480 with 1 Axes>"
      ]
     },
     "metadata": {},
     "output_type": "display_data"
    },
    {
     "name": "stdout",
     "output_type": "stream",
     "text": [
      "First\n",
      "{0, 1, 2, 4}\n",
      "Second\n",
      "{0, 1, 2, 4}\n",
      "First\n",
      "{3, 5}\n",
      "Second\n",
      "{3}\n",
      "First\n",
      "{6}\n",
      "Second\n",
      "{6}\n",
      "First\n",
      "{7}\n",
      "Second\n",
      "{7}\n",
      "First\n",
      "{8}\n",
      "Second\n",
      "{8}\n",
      "First\n",
      "{9, 18, 28}\n",
      "Second\n",
      "{9}\n",
      "First\n",
      "{10}\n",
      "Second\n",
      "{10}\n",
      "First\n",
      "{11}\n",
      "Second\n",
      "{11}\n",
      "First\n",
      "{12}\n",
      "Second\n",
      "{12}\n",
      "First\n",
      "{13}\n",
      "Second\n",
      "{13}\n",
      "First\n",
      "{14}\n",
      "Second\n",
      "{14}\n",
      "First\n",
      "{15}\n",
      "Second\n",
      "{15}\n",
      "First\n",
      "{16}\n",
      "Second\n",
      "{16}\n",
      "First\n",
      "{17}\n",
      "Second\n",
      "{17}\n",
      "First\n",
      "{19}\n",
      "Second\n",
      "{19}\n",
      "First\n",
      "{20}\n",
      "Second\n",
      "{20}\n",
      "First\n",
      "{21}\n",
      "Second\n",
      "{21}\n",
      "First\n",
      "{22}\n",
      "Second\n",
      "{22}\n",
      "First\n",
      "{23}\n",
      "Second\n",
      "{23}\n",
      "First\n",
      "{24}\n",
      "Second\n",
      "{24}\n",
      "First\n",
      "{25}\n",
      "Second\n",
      "{25}\n",
      "First\n",
      "{26}\n",
      "Second\n",
      "{26}\n",
      "First\n",
      "{18, 27}\n",
      "Second\n",
      "{18, 27}\n",
      "First\n",
      "{29}\n",
      "Second\n",
      "{29}\n",
      "First\n",
      "{5}\n",
      "Second\n",
      "{5}\n",
      "First\n",
      "{28}\n",
      "Second\n",
      "{28}\n",
      "\n",
      "26\n",
      "4\n"
     ]
    }
   ],
   "source": [
    "def component_directed(G, N, i, correct):\n",
    "    C = set()\n",
    "    S = []\n",
    "    S.append(i)\n",
    "    N.remove(i)\n",
    "    while S:\n",
    "        node = S.pop()\n",
    "        C.add(node)\n",
    "        neighbours = G.successors(node)\n",
    "        if correct:\n",
    "            neighbours = G.successors(node)\n",
    "        else:\n",
    "            neighbours = G.predecessors(node)\n",
    "        #print(f\"Node {G[node]}\")\n",
    "        #for j in neighbours:\n",
    "        #    print(G[j])\n",
    "        for j in neighbours:\n",
    "            if j in N:\n",
    "                N.remove(j)\n",
    "                S.append(j)\n",
    "    return C\n",
    "\n",
    "def components_directed(G):\n",
    "    C = []\n",
    "    N = set(G)\n",
    "    while N:\n",
    "        first = component_directed(G, N, next(iter(N)), correct=True)\n",
    "        print(\"First\")\n",
    "        print(first)\n",
    "        second = component_directed(G, first, next(iter(first)), correct=False)\n",
    "        print(\"Second\")\n",
    "        print(second)\n",
    "        C.append(second)\n",
    "        N.update(first)\n",
    "    return C\n",
    "\n",
    "D2 = nx.scale_free_graph(30)\n",
    "print(\"Finished building\")\n",
    "draw(D2)\n",
    "scc_mine = sorted(components_directed(D2), key=len, reverse=True)\n",
    "lengths = [len(c) for c in scc_mine]\n",
    "print()\n",
    "print(len(lengths))\n",
    "print(lengths[0])"
   ]
  },
  {
   "cell_type": "code",
   "execution_count": 54,
   "metadata": {},
   "outputs": [
    {
     "name": "stdout",
     "output_type": "stream",
     "text": [
      "15\n",
      "35\n",
      "Mine: 11, 4\n",
      "Networkx: 12, 4\n"
     ]
    }
   ],
   "source": [
    "#D = nx.read_pajek('enron.net')\n",
    "D = nx.scale_free_graph(15)\n",
    "n = len(D)\n",
    "m = D.number_of_edges()\n",
    "print(n)\n",
    "print(m)\n",
    "lengths_mine = [len(c) for c in sorted(components_directed(D), key=len, reverse=True)]\n",
    "lengths_nx = [len(c) for c in sorted(nx.strongly_connected_components(D), key=len, reverse=True)]\n",
    "print(f\"Mine: {len(lengths_mine)}, {lengths_mine[0]}\")\n",
    "print(f\"Networkx: {len(lengths_nx)}, {lengths_nx[0]}\")"
   ]
  },
  {
   "cell_type": "code",
   "execution_count": 74,
   "metadata": {},
   "outputs": [
    {
     "data": {
      "image/png": "[encoded data removed]",
      "text/plain": [
       "<Figure size 640x480 with 1 Axes>"
      ]
     },
     "metadata": {},
     "output_type": "display_data"
    },
    {
     "name": "stdout",
     "output_type": "stream",
     "text": [
      "First\n",
      "{0, 1, 2, 3, 11}\n",
      "Second\n",
      "{0, 1, 2, 3}\n",
      "First\n",
      "{4}\n",
      "Second\n",
      "{4}\n",
      "First\n",
      "{5}\n",
      "Second\n",
      "{5}\n",
      "First\n",
      "{6}\n",
      "Second\n",
      "{6}\n",
      "First\n",
      "{9, 7}\n",
      "Second\n",
      "{9, 7}\n",
      "First\n",
      "{8}\n",
      "Second\n",
      "{8}\n",
      "First\n",
      "{10}\n",
      "Second\n",
      "{10}\n",
      "First\n",
      "{12}\n",
      "Second\n",
      "{12}\n",
      "First\n",
      "{13}\n",
      "Second\n",
      "{13}\n",
      "First\n",
      "{14}\n",
      "Second\n",
      "{14}\n",
      "First\n",
      "{11}\n",
      "Second\n",
      "{11}\n",
      "[{0, 1, 2, 3}, {9, 7}, {4}, {5}, {6}, {8}, {10}, {12}, {13}, {14}, {11}]\n",
      "[{0, 1, 2, 3}, {11}, {4}, {5}, {6}, {9}, {7}, {8}, {10}, {12}, {13}, {14}]\n"
     ]
    }
   ],
   "source": [
    "draw(D)\n",
    "print(sorted(components_directed(D), key=len, reverse=True))\n",
    "print(sorted(nx.strongly_connected_components(D), key=len, reverse=True))"
   ]
  },
  {
   "cell_type": "code",
   "execution_count": 72,
   "metadata": {},
   "outputs": [
    {
     "name": "stdout",
     "output_type": "stream",
     "text": [
      "{0: {0: {}}, 9: {0: {}}}\n",
      "{}\n"
     ]
    }
   ],
   "source": [
    "print(D[7])\n",
    "print(D[9])"
   ]
  },
  {
   "cell_type": "code",
   "execution_count": 51,
   "metadata": {},
   "outputs": [
    {
     "name": "stdout",
     "output_type": "stream",
     "text": [
      "87273\n"
     ]
    }
   ],
   "source": [
    "print(sum(lengths))"
   ]
  },
  {
   "cell_type": "code",
   "execution_count": null,
   "metadata": {},
   "outputs": [],
   "source": [
    "G = nx.read_pajek('collaboration_imdb.net')\n",
    "#G = nx.read_pajek('karate_club.net')\n",
    "#draw(G)\n",
    "cc_nx = [len(c) for c in sorted(nx.connected_components(G), key=len, reverse=True)]\n",
    "print(cc_nx)\n",
    "print(len(cc_nx))\n"
   ]
  },
  {
   "cell_type": "code",
   "execution_count": null,
   "metadata": {},
   "outputs": [],
   "source": [
    "cc_mine = [len(c) for c in sorted(components(G), key=len, reverse=True)]\n",
    "print(cc_nx)\n",
    "print(len(cc_nx))"
   ]
  }
 ],
 "metadata": {
  "kernelspec": {
   "display_name": "Python 3",
   "language": "python",
   "name": "python3"
  },
  "language_info": {
   "codemirror_mode": {
    "name": "ipython",
    "version": 3
   },
   "file_extension": ".py",
   "mimetype": "text/x-python",
   "name": "python",
   "nbconvert_exporter": "python",
   "pygments_lexer": "ipython3",
   "version": "3.9.1"
  }
 },
 "nbformat": 4,
 "nbformat_minor": 2
}
